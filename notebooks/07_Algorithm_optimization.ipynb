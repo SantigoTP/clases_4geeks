{
  "nbformat": 4,
  "nbformat_minor": 0,
  "metadata": {
    "colab": {
      "provenance": []
    },
    "kernelspec": {
      "name": "python3",
      "display_name": "Python 3"
    },
    "language_info": {
      "name": "python"
    }
  },
  "cells": [
    {
      "cell_type": "markdown",
      "source": [
        "Algoritmo de suma y multiplicacion de matrices"
      ],
      "metadata": {
        "id": "HUb8IQisF-fe"
      }
    },
    {
      "cell_type": "code",
      "execution_count": 3,
      "metadata": {
        "colab": {
          "base_uri": "https://localhost:8080/"
        },
        "id": "ZtUSwih_F7Rc",
        "outputId": "3ea6285f-ef5c-4468-f686-0f80567dcd6f"
      },
      "outputs": [
        {
          "output_type": "execute_result",
          "data": {
            "text/plain": [
              "-1"
            ]
          },
          "metadata": {},
          "execution_count": 3
        }
      ],
      "source": [
        "matriz_a = [[-1,0,2],\n",
        "            [0,1,2],\n",
        "            [0,0,-1]]\n",
        "\n",
        "matriz_a[0][0]"
      ]
    },
    {
      "cell_type": "code",
      "source": [
        "def imprimir_matriz(matriz:list) -> None:\n",
        "  for i in range(len(matriz_a)):\n",
        "    for j in range(len(matriz_a)):\n",
        "      print(matriz[i][j], end=\" \")\n",
        "    print(\"\\n\")\n",
        "\n",
        "imprimir_matriz(matriz_a)"
      ],
      "metadata": {
        "colab": {
          "base_uri": "https://localhost:8080/"
        },
        "id": "xHBXTLagHkch",
        "outputId": "d227f9b9-7be7-45a3-a725-4b0a10e23858"
      },
      "execution_count": 19,
      "outputs": [
        {
          "output_type": "stream",
          "name": "stdout",
          "text": [
            "-1 0 2 \n",
            "\n",
            "0 1 2 \n",
            "\n",
            "0 0 -1 \n",
            "\n"
          ]
        }
      ]
    },
    {
      "cell_type": "markdown",
      "source": [
        "Dada una lista simple my_lista = [3,4,7,-1] genere un algoritmo para imprimir cada elemento de la lista separado por dos simbolos de igual"
      ],
      "metadata": {
        "id": "O3f308yHKEkx"
      }
    },
    {
      "cell_type": "code",
      "source": [
        "my_lista = [3,4,7,-1] #Esto tiene n elementos\n",
        "\n",
        "#print(\"==\".join(map(str, mi_lista)))\n",
        "\n",
        "for i in range(len(my_lista)-1):\n",
        "  print(my_lista[i], end=\" == \")\n",
        "print(my_lista[-1])\n"
      ],
      "metadata": {
        "colab": {
          "base_uri": "https://localhost:8080/"
        },
        "id": "U23_mmLpKazH",
        "outputId": "eda86834-889b-48e0-8d42-4c3e0c223cbf"
      },
      "execution_count": 77,
      "outputs": [
        {
          "output_type": "stream",
          "name": "stdout",
          "text": [
            "3 == 4 == 7 == -1\n"
          ]
        }
      ]
    },
    {
      "cell_type": "markdown",
      "source": [
        "Dados dos matrices, genere un algoritmo para sumar los elementos de una matriz:\n",
        "\n",
        "m_1 = [[0,1],[3,-2]]  \n",
        "m_2 = [[0,-1],[1,1]]"
      ],
      "metadata": {
        "id": "PILwNfpKON4e"
      }
    },
    {
      "cell_type": "code",
      "source": [
        "m_1 = [[0,1],[3,-2]]\n",
        "m_2 = [[0,-1],[1,1]]\n",
        "\n",
        "def suma_matrices(matrizA:list, matrizB:list) -> list:\n",
        "  matriz_r = m_1.copy() #Se corre una vez (costo lineal)\n",
        "  for i in range(len(m_1)): #Carremos N filas\n",
        "    for j in range(len(m_1)): #Corremos N columnas\n",
        "      matriz_r[i][j] = matrizA[i][j] + matrizB[i][j]\n",
        "  return matriz_r\n",
        "\n",
        "suma_matrices(m_1,m_2)"
      ],
      "metadata": {
        "colab": {
          "base_uri": "https://localhost:8080/"
        },
        "id": "-PBVYUICOUMQ",
        "outputId": "0e6267ae-7873-4851-bba0-f4b170403187"
      },
      "execution_count": 75,
      "outputs": [
        {
          "output_type": "execute_result",
          "data": {
            "text/plain": [
              "[[0, 0], [4, -1]]"
            ]
          },
          "metadata": {},
          "execution_count": 75
        }
      ]
    },
    {
      "cell_type": "markdown",
      "source": [
        "Dada una lista de numeros retornar la lista con los numeros elevados al cuadrado. Ej: lista_b = [-3,2,0,10]"
      ],
      "metadata": {
        "id": "9CSnZCrdaTHI"
      }
    },
    {
      "cell_type": "code",
      "source": [
        "lista_b = [-3,2,0,10]\n",
        "\n",
        "resultado = list(map(lambda x: x**2, lista_b))\n",
        "\n",
        "def lista_cuadratica(listaA:list) -> None:\n",
        "  matriz_resultante = listaA.copy()\n",
        "  for i in range(len(listaA)):\n",
        "    matriz_resultante[i] = lista_b[i]**2\n",
        "  return matriz_resultante\n",
        "\n",
        "lista_cuadratica(lista_b)"
      ],
      "metadata": {
        "colab": {
          "base_uri": "https://localhost:8080/"
        },
        "id": "ci_Ek8efab1q",
        "outputId": "52030aaf-1b45-46e5-8b47-0fd8d65f0312"
      },
      "execution_count": 89,
      "outputs": [
        {
          "output_type": "execute_result",
          "data": {
            "text/plain": [
              "[9, 4, 0, 100]"
            ]
          },
          "metadata": {},
          "execution_count": 89
        }
      ]
    },
    {
      "cell_type": "code",
      "source": [
        "[x*x for x in lista_b]\n",
        "# Esto seria como\n",
        "# for x in lista_b:\n",
        "#   my_list.append(x*x)"
      ],
      "metadata": {
        "colab": {
          "base_uri": "https://localhost:8080/"
        },
        "id": "bLWvzHmic_Er",
        "outputId": "4dd507ba-ed2b-4157-f250-a03438944d97"
      },
      "execution_count": 91,
      "outputs": [
        {
          "output_type": "execute_result",
          "data": {
            "text/plain": [
              "[9, 4, 0, 100]"
            ]
          },
          "metadata": {},
          "execution_count": 91
        }
      ]
    },
    {
      "cell_type": "code",
      "source": [
        "[x-1 for x in lista_b]"
      ],
      "metadata": {
        "colab": {
          "base_uri": "https://localhost:8080/"
        },
        "id": "wNyfvalfddmh",
        "outputId": "0f4ed2bb-f11c-464b-c840-16f70eeac9f9"
      },
      "execution_count": 92,
      "outputs": [
        {
          "output_type": "execute_result",
          "data": {
            "text/plain": [
              "[-4, 1, -1, 9]"
            ]
          },
          "metadata": {},
          "execution_count": 92
        }
      ]
    },
    {
      "cell_type": "code",
      "source": [
        "[x*x if x > 0 else x for x in lista_b]"
      ],
      "metadata": {
        "colab": {
          "base_uri": "https://localhost:8080/"
        },
        "id": "5vAzm-nxeCqt",
        "outputId": "0a62a364-56f6-4ef9-e16f-e61289ae415a"
      },
      "execution_count": 97,
      "outputs": [
        {
          "output_type": "execute_result",
          "data": {
            "text/plain": [
              "[-3, 4, 0, 100]"
            ]
          },
          "metadata": {},
          "execution_count": 97
        }
      ]
    },
    {
      "cell_type": "code",
      "source": [
        "my_dict = {\n",
        "    'a':'juan',\n",
        "    'b':'maria'\n",
        "}\n",
        "{ k:v.upper() for k,v in my_dict.items()}"
      ],
      "metadata": {
        "colab": {
          "base_uri": "https://localhost:8080/"
        },
        "id": "u1OG-IQwik51",
        "outputId": "65e96580-ec70-46a7-d6d9-32b2a3bfb2d2"
      },
      "execution_count": 107,
      "outputs": [
        {
          "output_type": "execute_result",
          "data": {
            "text/plain": [
              "{'a': 'Juan', 'b': 'Maria'}"
            ]
          },
          "metadata": {},
          "execution_count": 107
        }
      ]
    },
    {
      "cell_type": "code",
      "source": [
        "{ k:v.capitalize() for k,v in my_dict.items()}"
      ],
      "metadata": {
        "colab": {
          "base_uri": "https://localhost:8080/"
        },
        "id": "upkpfAWUjx0V",
        "outputId": "b8133bd8-29a6-4c8c-9054-2c3530b861b5"
      },
      "execution_count": 110,
      "outputs": [
        {
          "output_type": "execute_result",
          "data": {
            "text/plain": [
              "{'a': 'Juan', 'b': 'Maria'}"
            ]
          },
          "metadata": {},
          "execution_count": 110
        }
      ]
    },
    {
      "cell_type": "code",
      "source": [
        "my_dict.items()"
      ],
      "metadata": {
        "colab": {
          "base_uri": "https://localhost:8080/"
        },
        "id": "8Aae6LnrkTBn",
        "outputId": "04589219-6563-4d08-c168-f6c3d08c95ca"
      },
      "execution_count": 111,
      "outputs": [
        {
          "output_type": "execute_result",
          "data": {
            "text/plain": [
              "dict_items([('a', 'juan'), ('b', 'maria')])"
            ]
          },
          "metadata": {},
          "execution_count": 111
        }
      ]
    }
  ]
}