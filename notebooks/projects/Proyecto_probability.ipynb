{
 "cells": [
  {
   "cell_type": "code",
   "execution_count": 2,
   "id": "350ba355",
   "metadata": {},
   "outputs": [],
   "source": [
    "import numpy as pd\n",
    "import pandas as pd\n",
    "import matplotlib.pyplot as plt\n",
    "import random #pseudo aleatorio\n",
    "from fractions import Fraction"
   ]
  },
  {
   "cell_type": "markdown",
   "id": "3a1441d1",
   "metadata": {},
   "source": [
    "### Ejercicio 1\n",
    "Dos dados se lanzan una vez y se observa el total obtenido. Usa una simulación para encontrar la probabilidad estimada de que la puntuación sea mayor a 7 o un número par. Una simulación es una repetición del mismo experimento multiples veces para observar su comportamiento:\n",
    "\n",
    "- Ejecuta el experimento 1000 veces (lanza 2 dados 1000 veces, y suma el número de ambos dados).\n",
    "- Lleva ua cuenta de los números y las veces que la suma fue mayor a 7 o un número par.\n",
    "- Divide el número del paso 2 entre el número de iteraciones(1000)."
   ]
  },
  {
   "cell_type": "code",
   "execution_count": 80,
   "id": "6215c3a8",
   "metadata": {},
   "outputs": [
    {
     "name": "stdout",
     "output_type": "stream",
     "text": [
      "La probabilidad de que salga un número par o un número mayor a 7 en 1000 lanzamientos es del: 66.00%\n"
     ]
    }
   ],
   "source": [
    "die = [1,2,3,4,5,6]\n",
    "acum = 0\n",
    "tiradas_dados = 1000\n",
    "\n",
    "for i in range(tiradas_dados): #Ciclo for que simula los lanzamientos de dados\n",
    "\n",
    "    num1 = random.choice(die) #Simulamos que obtenemos un número random del lanzamiento del  dado1\n",
    "    num2 = random.choice(die) #Simulamos que obtenemos un número random del lanzamiento del  dado1\n",
    "    sumdie = num1 + num2 #Sumamos los numeros a ver si cumplen la condición\n",
    "\n",
    "    if (sumdie > 7) or (sumdie % 2) == 0:\n",
    "        acum = acum + 1 #De cumplir la condición sumamos 1 al acumulador\n",
    "\n",
    "#Para conseguir la probabilidad de nuestra condicion dividimos el numero de sucesos que cumplen la condición entre el numero de lanzamientos\n",
    "print(f\"La probabilidad de que salga un número par o un número mayor a 7 en 1000 lanzamientos es del: {(acum/tiradas_dados)*100:.2f}%\")"
   ]
  },
  {
   "cell_type": "markdown",
   "id": "65e42670",
   "metadata": {},
   "source": [
    "### Ejercicio 2\n",
    "Una caja contiene 10 bolas blancas, 20 bolas rojas y 30 bolas verdes. Si tomamos 5 bolas de la caja reemplazándolas (tomando una bola, anotando el color y luego regresandola a la caja). Queremos saber la probabilidad de:\n",
    "\n",
    "- Tomar 3 blancas y 2 rojas.\n",
    "- Todas todas del mismo color.\n",
    "- Ejecuta el experimento 1000 veces y calcula las probabilidades que mencionadas."
   ]
  },
  {
   "cell_type": "code",
   "execution_count": 157,
   "id": "0c0f9b5b",
   "metadata": {},
   "outputs": [
    {
     "name": "stdout",
     "output_type": "stream",
     "text": [
      "Probabilidad de 3 blancas y 2 rojas: 0.50%\n",
      "Probabilidad de que todas sean del mismo color: 3.50%\n"
     ]
    }
   ],
   "source": [
    "caja = ['blanca'] * 10 + ['roja'] * 20 + ['verde'] * 30\n",
    "\n",
    "num_simulaciones = 1000 \n",
    "\n",
    "contador_3b_2r = 0\n",
    "contador_mismo_color = 0\n",
    "\n",
    "for _ in range(num_simulaciones):\n",
    "\n",
    "    extracciones = random.choices(caja, k=5)\n",
    "    \n",
    "    conteo_blancas = extracciones.count('blanca')\n",
    "    conteo_rojas = extracciones.count('roja')\n",
    "\n",
    "    if (conteo_blancas == 3) and (conteo_rojas) == 2:\n",
    "        contador_3b_2r += 1\n",
    "        \n",
    "    if (conteo_blancas == 5) or (conteo_rojas == 5) or (extracciones.count('verde') == 5):\n",
    "        contador_mismo_color += 1\n",
    "\n",
    "\n",
    "probabilidad_3b_2r = (contador_3b_2r / num_simulaciones) * 100\n",
    "probabilidad_mismo_color = (contador_mismo_color / num_simulaciones) * 100\n",
    "\n",
    "\n",
    "print(f\"Probabilidad de 3 blancas y 2 rojas: {probabilidad_3b_2r:.2f}%\")\n",
    "print(f\"Probabilidad de que todas sean del mismo color: {probabilidad_mismo_color:.2f}%\")"
   ]
  }
 ],
 "metadata": {
  "kernelspec": {
   "display_name": ".venv",
   "language": "python",
   "name": "python3"
  },
  "language_info": {
   "codemirror_mode": {
    "name": "ipython",
    "version": 3
   },
   "file_extension": ".py",
   "mimetype": "text/x-python",
   "name": "python",
   "nbconvert_exporter": "python",
   "pygments_lexer": "ipython3",
   "version": "3.12.1"
  }
 },
 "nbformat": 4,
 "nbformat_minor": 5
}
