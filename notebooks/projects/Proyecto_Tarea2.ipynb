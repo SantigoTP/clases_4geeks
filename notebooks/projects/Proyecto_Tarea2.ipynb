{
  "cells": [
    {
      "cell_type": "code",
      "source": [
        "import numpy as np\n",
        "import matplotlib.pyplot as plt\n",
        "import pandas as pd\n",
        "import sympy as sy"
      ],
      "metadata": {
        "id": "CjazUxSaRaJp"
      },
      "id": "CjazUxSaRaJp",
      "execution_count": 78,
      "outputs": []
    },
    {
      "cell_type": "markdown",
      "id": "b7e2e87a",
      "metadata": {
        "id": "b7e2e87a"
      },
      "source": [
        "### Ejercicio 1\n",
        "\n",
        "Supongamos que, en mi oficina, me toma 10 segundos (tiempo) recorrer 25 metros (distancia) hasta la máquina de café.\n",
        "Si queremos expresar la situación anterior como una función, sería:\n",
        "\n",
        "distancia=velocidad×tiempo\n",
        "\n",
        "Por lo tanto, en este caso, la velocidad es la primera derivada de la función de distancia mencionada. Dado que la velocidad describe la tasa de cambio de la distancia con respecto al tiempo, cuando las personas dicen que toman la primera derivada de una función determinada, se refieren a encontrar la tasa de cambio de esa función.\n",
        "\n",
        "**Encuentra la velocidad y construye la función lineal de la distancia $(d)$ con respecto al tiempo $(t)$, cuando $(t ∈ [0,10])$.**"
      ]
    },
    {
      "cell_type": "code",
      "execution_count": 79,
      "id": "bb3e954e",
      "metadata": {
        "id": "bb3e954e"
      },
      "outputs": [],
      "source": [
        "def distance(speed:float, time:float) -> float:\n",
        "  return speed * time"
      ]
    },
    {
      "cell_type": "code",
      "execution_count": 80,
      "id": "dbc4c780",
      "metadata": {
        "colab": {
          "base_uri": "https://localhost:8080/",
          "height": 449
        },
        "id": "dbc4c780",
        "outputId": "a72234a6-0451-44a9-bbc1-bd082d0bafc8"
      },
      "outputs": [
        {
          "output_type": "display_data",
          "data": {
            "text/plain": [
              "<Figure size 640x480 with 1 Axes>"
            ],
            "image/png": "[encoded data removed]"
          },
          "metadata": {}
        }
      ],
      "source": [
        "t = np.linspace(0,10,1000)\n",
        "speed = 25/10 #Esto es 25 metros entre 10 segundos = 2.5m/s\n",
        "\n",
        "plt.plot(t, distance(speed,t)) #Speed es una constante y t es la variable,  tiene forma lineal del tipo K*x (K = velocidad, X = tiempo)\n",
        "plt.xlabel(\"Tiempo (segundos)\")\n",
        "plt.ylabel(\"Velocidad (m/s)\")\n",
        "plt.grid(True)\n",
        "plt.show()"
      ]
    },
    {
      "cell_type": "code",
      "source": [
        "datos = {\n",
        "    'Tiempo (s)': t,\n",
        "    'Velocidad (m/s)': speed(v_0, a, t)\n",
        "}\n",
        "\n",
        "# Creación del DataFrame de pandas\n",
        "df = pd.DataFrame(datos)\n",
        "\n",
        "# Imprimir la tabla completa\n",
        "df.head(1000)"
      ],
      "metadata": {
        "colab": {
          "base_uri": "https://localhost:8080/",
          "height": 423
        },
        "id": "Sp0XKeOGUGn_",
        "outputId": "ec758f28-e270-440b-c70a-e6a212f62cf9"
      },
      "id": "Sp0XKeOGUGn_",
      "execution_count": 83,
      "outputs": [
        {
          "output_type": "execute_result",
          "data": {
            "text/plain": [
              "     Tiempo (s)  Velocidad (m/s)\n",
              "0       0.00000         0.000000\n",
              "1       0.01001         0.005005\n",
              "2       0.02002         0.010010\n",
              "3       0.03003         0.015015\n",
              "4       0.04004         0.020020\n",
              "..          ...              ...\n",
              "995     9.95996         4.979980\n",
              "996     9.96997         4.984985\n",
              "997     9.97998         4.989990\n",
              "998     9.98999         4.994995\n",
              "999    10.00000         5.000000\n",
              "\n",
              "[1000 rows x 2 columns]"
            ],
            "text/html": [
              "\n",
              "  <div id=\"df-66904c0e-9b2e-4e9b-a670-ffbc1caf3523\" class=\"colab-df-container\">\n",
              "    <div>\n",
              "<style scoped>\n",
              "    .dataframe tbody tr th:only-of-type {\n",
              "        vertical-align: middle;\n",
              "    }\n",
              "\n",
              "    .dataframe tbody tr th {\n",
              "        vertical-align: top;\n",
              "    }\n",
              "\n",
              "    .dataframe thead th {\n",
              "        text-align: right;\n",
              "    }\n",
              "</style>\n",
              "<table border=\"1\" class=\"dataframe\">\n",
              "  <thead>\n",
              "    <tr style=\"text-align: right;\">\n",
              "      <th></th>\n",
              "      <th>Tiempo (s)</th>\n",
              "      <th>Velocidad (m/s)</th>\n",
              "    </tr>\n",
              "  </thead>\n",
              "  <tbody>\n",
              "    <tr>\n",
              "      <th>0</th>\n",
              "      <td>0.00000</td>\n",
              "      <td>0.000000</td>\n",
              "    </tr>\n",
              "    <tr>\n",
              "      <th>1</th>\n",
              "      <td>0.01001</td>\n",
              "      <td>0.005005</td>\n",
              "    </tr>\n",
              "    <tr>\n",
              "      <th>2</th>\n",
              "      <td>0.02002</td>\n",
              "      <td>0.010010</td>\n",
              "    </tr>\n",
              "    <tr>\n",
              "      <th>3</th>\n",
              "      <td>0.03003</td>\n",
              "      <td>0.015015</td>\n",
              "    </tr>\n",
              "    <tr>\n",
              "      <th>4</th>\n",
              "      <td>0.04004</td>\n",
              "      <td>0.020020</td>\n",
              "    </tr>\n",
              "    <tr>\n",
              "      <th>...</th>\n",
              "      <td>...</td>\n",
              "      <td>...</td>\n",
              "    </tr>\n",
              "    <tr>\n",
              "      <th>995</th>\n",
              "      <td>9.95996</td>\n",
              "      <td>4.979980</td>\n",
              "    </tr>\n",
              "    <tr>\n",
              "      <th>996</th>\n",
              "      <td>9.96997</td>\n",
              "      <td>4.984985</td>\n",
              "    </tr>\n",
              "    <tr>\n",
              "      <th>997</th>\n",
              "      <td>9.97998</td>\n",
              "      <td>4.989990</td>\n",
              "    </tr>\n",
              "    <tr>\n",
              "      <th>998</th>\n",
              "      <td>9.98999</td>\n",
              "      <td>4.994995</td>\n",
              "    </tr>\n",
              "    <tr>\n",
              "      <th>999</th>\n",
              "      <td>10.00000</td>\n",
              "      <td>5.000000</td>\n",
              "    </tr>\n",
              "  </tbody>\n",
              "</table>\n",
              "<p>1000 rows × 2 columns</p>\n",
              "</div>\n",
              "    <div class=\"colab-df-buttons\">\n",
              "\n",
              "  <div class=\"colab-df-container\">\n",
              "    <button class=\"colab-df-convert\" onclick=\"convertToInteractive('df-66904c0e-9b2e-4e9b-a670-ffbc1caf3523')\"\n",
              "            title=\"Convert this dataframe to an interactive table.\"\n",
              "            style=\"display:none;\">\n",
              "\n",
              "  <svg xmlns=\"http://www.w3.org/2000/svg\" height=\"24px\" viewBox=\"0 -960 960 960\">\n",
              "    <path d=\"M120-120v-720h720v720H120Zm60-500h600v-160H180v160Zm220 220h160v-160H400v160Zm0 220h160v-160H400v160ZM180-400h160v-160H180v160Zm440 0h160v-160H620v160ZM180-180h160v-160H180v160Zm440 0h160v-160H620v160Z\"/>\n",
              "  </svg>\n",
              "    </button>\n",
              "\n",
              "  <style>\n",
              "    .colab-df-container {\n",
              "      display:flex;\n",
              "      gap: 12px;\n",
              "    }\n",
              "\n",
              "    .colab-df-convert {\n",
              "      background-color: #E8F0FE;\n",
              "      border: none;\n",
              "      border-radius: 50%;\n",
              "      cursor: pointer;\n",
              "      display: none;\n",
              "      fill: #1967D2;\n",
              "      height: 32px;\n",
              "      padding: 0 0 0 0;\n",
              "      width: 32px;\n",
              "    }\n",
              "\n",
              "    .colab-df-convert:hover {\n",
              "      background-color: #E2EBFA;\n",
              "      box-shadow: 0px 1px 2px rgba(60, 64, 67, 0.3), 0px 1px 3px 1px rgba(60, 64, 67, 0.15);\n",
              "      fill: #174EA6;\n",
              "    }\n",
              "\n",
              "    .colab-df-buttons div {\n",
              "      margin-bottom: 4px;\n",
              "    }\n",
              "\n",
              "    [theme=dark] .colab-df-convert {\n",
              "      background-color: #3B4455;\n",
              "      fill: #D2E3FC;\n",
              "    }\n",
              "\n",
              "    [theme=dark] .colab-df-convert:hover {\n",
              "      background-color: #434B5C;\n",
              "      box-shadow: 0px 1px 3px 1px rgba(0, 0, 0, 0.15);\n",
              "      filter: drop-shadow(0px 1px 2px rgba(0, 0, 0, 0.3));\n",
              "      fill: #FFFFFF;\n",
              "    }\n",
              "  </style>\n",
              "\n",
              "    <script>\n",
              "      const buttonEl =\n",
              "        document.querySelector('#df-66904c0e-9b2e-4e9b-a670-ffbc1caf3523 button.colab-df-convert');\n",
              "      buttonEl.style.display =\n",
              "        google.colab.kernel.accessAllowed ? 'block' : 'none';\n",
              "\n",
              "      async function convertToInteractive(key) {\n",
              "        const element = document.querySelector('#df-66904c0e-9b2e-4e9b-a670-ffbc1caf3523');\n",
              "        const dataTable =\n",
              "          await google.colab.kernel.invokeFunction('convertToInteractive',\n",
              "                                                    [key], {});\n",
              "        if (!dataTable) return;\n",
              "\n",
              "        const docLinkHtml = 'Like what you see? Visit the ' +\n",
              "          '<a target=\"_blank\" href=https://colab.research.google.com/notebooks/data_table.ipynb>data table notebook</a>'\n",
              "          + ' to learn more about interactive tables.';\n",
              "        element.innerHTML = '';\n",
              "        dataTable['output_type'] = 'display_data';\n",
              "        await google.colab.output.renderOutput(dataTable, element);\n",
              "        const docLink = document.createElement('div');\n",
              "        docLink.innerHTML = docLinkHtml;\n",
              "        element.appendChild(docLink);\n",
              "      }\n",
              "    </script>\n",
              "  </div>\n",
              "\n",
              "\n",
              "    <div id=\"df-4a23d6be-9a55-4073-b231-fa6395d68773\">\n",
              "      <button class=\"colab-df-quickchart\" onclick=\"quickchart('df-4a23d6be-9a55-4073-b231-fa6395d68773')\"\n",
              "                title=\"Suggest charts\"\n",
              "                style=\"display:none;\">\n",
              "\n",
              "<svg xmlns=\"http://www.w3.org/2000/svg\" height=\"24px\"viewBox=\"0 0 24 24\"\n",
              "     width=\"24px\">\n",
              "    <g>\n",
              "        <path d=\"M19 3H5c-1.1 0-2 .9-2 2v14c0 1.1.9 2 2 2h14c1.1 0 2-.9 2-2V5c0-1.1-.9-2-2-2zM9 17H7v-7h2v7zm4 0h-2V7h2v10zm4 0h-2v-4h2v4z\"/>\n",
              "    </g>\n",
              "</svg>\n",
              "      </button>\n",
              "\n",
              "<style>\n",
              "  .colab-df-quickchart {\n",
              "      --bg-color: #E8F0FE;\n",
              "      --fill-color: #1967D2;\n",
              "      --hover-bg-color: #E2EBFA;\n",
              "      --hover-fill-color: #174EA6;\n",
              "      --disabled-fill-color: #AAA;\n",
              "      --disabled-bg-color: #DDD;\n",
              "  }\n",
              "\n",
              "  [theme=dark] .colab-df-quickchart {\n",
              "      --bg-color: #3B4455;\n",
              "      --fill-color: #D2E3FC;\n",
              "      --hover-bg-color: #434B5C;\n",
              "      --hover-fill-color: #FFFFFF;\n",
              "      --disabled-bg-color: #3B4455;\n",
              "      --disabled-fill-color: #666;\n",
              "  }\n",
              "\n",
              "  .colab-df-quickchart {\n",
              "    background-color: var(--bg-color);\n",
              "    border: none;\n",
              "    border-radius: 50%;\n",
              "    cursor: pointer;\n",
              "    display: none;\n",
              "    fill: var(--fill-color);\n",
              "    height: 32px;\n",
              "    padding: 0;\n",
              "    width: 32px;\n",
              "  }\n",
              "\n",
              "  .colab-df-quickchart:hover {\n",
              "    background-color: var(--hover-bg-color);\n",
              "    box-shadow: 0 1px 2px rgba(60, 64, 67, 0.3), 0 1px 3px 1px rgba(60, 64, 67, 0.15);\n",
              "    fill: var(--button-hover-fill-color);\n",
              "  }\n",
              "\n",
              "  .colab-df-quickchart-complete:disabled,\n",
              "  .colab-df-quickchart-complete:disabled:hover {\n",
              "    background-color: var(--disabled-bg-color);\n",
              "    fill: var(--disabled-fill-color);\n",
              "    box-shadow: none;\n",
              "  }\n",
              "\n",
              "  .colab-df-spinner {\n",
              "    border: 2px solid var(--fill-color);\n",
              "    border-color: transparent;\n",
              "    border-bottom-color: var(--fill-color);\n",
              "    animation:\n",
              "      spin 1s steps(1) infinite;\n",
              "  }\n",
              "\n",
              "  @keyframes spin {\n",
              "    0% {\n",
              "      border-color: transparent;\n",
              "      border-bottom-color: var(--fill-color);\n",
              "      border-left-color: var(--fill-color);\n",
              "    }\n",
              "    20% {\n",
              "      border-color: transparent;\n",
              "      border-left-color: var(--fill-color);\n",
              "      border-top-color: var(--fill-color);\n",
              "    }\n",
              "    30% {\n",
              "      border-color: transparent;\n",
              "      border-left-color: var(--fill-color);\n",
              "      border-top-color: var(--fill-color);\n",
              "      border-right-color: var(--fill-color);\n",
              "    }\n",
              "    40% {\n",
              "      border-color: transparent;\n",
              "      border-right-color: var(--fill-color);\n",
              "      border-top-color: var(--fill-color);\n",
              "    }\n",
              "    60% {\n",
              "      border-color: transparent;\n",
              "      border-right-color: var(--fill-color);\n",
              "    }\n",
              "    80% {\n",
              "      border-color: transparent;\n",
              "      border-right-color: var(--fill-color);\n",
              "      border-bottom-color: var(--fill-color);\n",
              "    }\n",
              "    90% {\n",
              "      border-color: transparent;\n",
              "      border-bottom-color: var(--fill-color);\n",
              "    }\n",
              "  }\n",
              "</style>\n",
              "\n",
              "      <script>\n",
              "        async function quickchart(key) {\n",
              "          const quickchartButtonEl =\n",
              "            document.querySelector('#' + key + ' button');\n",
              "          quickchartButtonEl.disabled = true;  // To prevent multiple clicks.\n",
              "          quickchartButtonEl.classList.add('colab-df-spinner');\n",
              "          try {\n",
              "            const charts = await google.colab.kernel.invokeFunction(\n",
              "                'suggestCharts', [key], {});\n",
              "          } catch (error) {\n",
              "            console.error('Error during call to suggestCharts:', error);\n",
              "          }\n",
              "          quickchartButtonEl.classList.remove('colab-df-spinner');\n",
              "          quickchartButtonEl.classList.add('colab-df-quickchart-complete');\n",
              "        }\n",
              "        (() => {\n",
              "          let quickchartButtonEl =\n",
              "            document.querySelector('#df-4a23d6be-9a55-4073-b231-fa6395d68773 button');\n",
              "          quickchartButtonEl.style.display =\n",
              "            google.colab.kernel.accessAllowed ? 'block' : 'none';\n",
              "        })();\n",
              "      </script>\n",
              "    </div>\n",
              "\n",
              "    </div>\n",
              "  </div>\n"
            ],
            "application/vnd.google.colaboratory.intrinsic+json": {
              "type": "dataframe",
              "variable_name": "df",
              "summary": "{\n  \"name\": \"df\",\n  \"rows\": 1000,\n  \"fields\": [\n    {\n      \"column\": \"Tiempo (s)\",\n      \"properties\": {\n        \"dtype\": \"number\",\n        \"std\": 2.8910854464038986,\n        \"min\": 0.0,\n        \"max\": 10.0,\n        \"num_unique_values\": 1000,\n        \"samples\": [\n          5.215215215215215,\n          7.377377377377377,\n          7.407407407407407\n        ],\n        \"semantic_type\": \"\",\n        \"description\": \"\"\n      }\n    },\n    {\n      \"column\": \"Velocidad (m/s)\",\n      \"properties\": {\n        \"dtype\": \"number\",\n        \"std\": 1.4455427232019493,\n        \"min\": 0.0,\n        \"max\": 5.0,\n        \"num_unique_values\": 1000,\n        \"samples\": [\n          2.6076076076076076,\n          3.6886886886886887,\n          3.7037037037037037\n        ],\n        \"semantic_type\": \"\",\n        \"description\": \"\"\n      }\n    }\n  ]\n}"
            }
          },
          "metadata": {},
          "execution_count": 83
        }
      ]
    },
    {
      "cell_type": "markdown",
      "id": "1144168d",
      "metadata": {
        "id": "1144168d"
      },
      "source": [
        "### Ejercicio 2\n",
        "\n",
        "Resultó que no caminaba a una velocidad constante hacia la máquina de café, sino que estaba acelerando (mi velocidad aumentaba con el tiempo). Si mi velocidad inicial era 0, todavía me tomó 10 segundos viajar desde mi asiento hasta la máquina de café, pero caminaba cada vez más rápido.\n",
        "\n",
        "$V_o$ = velocidad inicial = $0$\n",
        "\n",
        "t = tiempo\n",
        "\n",
        "a = aceleración\n",
        "\n",
        "**distancia** = $V_o * t + 0.5 * a * (t^2)$\n",
        "\n",
        "**velocidad** = $V_o + a * t$\n",
        "\n",
        "La primera derivada de la función de velocidad es la aceleración. Me doy cuenta de que la función de velocidad está estrechamente relacionada con la función de distancia.\n",
        "\n",
        "**Encuentra el valor de la aceleración y construye la función cuadrática para  $(t ∈ [0,10])$. Además, crea un gráfico y una tabla.**"
      ]
    },
    {
      "cell_type": "code",
      "execution_count": 82,
      "id": "ec1f8bd7",
      "metadata": {
        "colab": {
          "base_uri": "https://localhost:8080/",
          "height": 449
        },
        "id": "ec1f8bd7",
        "outputId": "28d9be70-696d-4a09-ee12-4a1ecfbd0e5c"
      },
      "outputs": [
        {
          "output_type": "display_data",
          "data": {
            "text/plain": [
              "<Figure size 640x480 with 1 Axes>"
            ],
            "image/png": "[encoded data removed]"
          },
          "metadata": {}
        }
      ],
      "source": [
        "# distancia = V0 * t + 0.5 * a * t^2\n",
        "def distance(v_0:float, a:float, t:float) -> float:\n",
        "  return v_0*t + 0.5 * a * t * t\n",
        "\n",
        "def speed(v_0:float, a:float, t:float) -> float:\n",
        "  return v_0 + a * t\n",
        "\n",
        "# distancia = V0 * t + 0.5 * a * t^2\n",
        "# 25 = 0*t + 1/2 * a * 10^2\n",
        "# 25 = 50 * a\n",
        "# 25/ 50 = a\n",
        "# 0,5 = a\n",
        "\n",
        "t = np.linspace(0,10,1000)\n",
        "v_0 = 0\n",
        "a = 0.5\n",
        "\n",
        "plt.plot(t,speed(v_0, a, t))\n",
        "plt.xlabel(\"Tiempo (segundos)\")\n",
        "plt.ylabel(\"Velocidad (m/s)\")\n",
        "plt.grid(True)\n",
        "plt.show()"
      ]
    },
    {
      "cell_type": "code",
      "source": [
        "plt.plot(t, distance(v_0, a, t))\n",
        "plt.xlabel(\"Tiempo (segundos)\")\n",
        "plt.ylabel(\"Distancia (metros)\")\n",
        "plt.grid(True)\n",
        "plt.show()"
      ],
      "metadata": {
        "colab": {
          "base_uri": "https://localhost:8080/",
          "height": 449
        },
        "id": "EwoCLrX9Sfze",
        "outputId": "3c30d01e-d651-4bf1-e5e0-f435a7e2f69e"
      },
      "id": "EwoCLrX9Sfze",
      "execution_count": 84,
      "outputs": [
        {
          "output_type": "display_data",
          "data": {
            "text/plain": [
              "<Figure size 640x480 with 1 Axes>"
            ],
            "image/png": "[encoded data removed]"
          },
          "metadata": {}
        }
      ]
    },
    {
      "cell_type": "code",
      "source": [
        "datos = {\n",
        "    'Tiempo (s)': t,\n",
        "    'Distancia (m)': distance(v_0, a, t),\n",
        "    'Velocidad (m/s)': speed(v_0, a, t)\n",
        "}\n",
        "\n",
        "# Creación del DataFrame de pandas\n",
        "df = pd.DataFrame(datos)\n",
        "\n",
        "# Imprimir la tabla completa\n",
        "df.head(1000)"
      ],
      "metadata": {
        "colab": {
          "base_uri": "https://localhost:8080/",
          "height": 423
        },
        "id": "ESNbXmFOS945",
        "outputId": "5e2ac6c1-b181-4b27-8244-8024d87b29ea"
      },
      "id": "ESNbXmFOS945",
      "execution_count": 85,
      "outputs": [
        {
          "output_type": "execute_result",
          "data": {
            "text/plain": [
              "     Tiempo (s)  Distancia (m)  Velocidad (m/s)\n",
              "0       0.00000       0.000000         0.000000\n",
              "1       0.01001       0.000025         0.005005\n",
              "2       0.02002       0.000100         0.010010\n",
              "3       0.03003       0.000225         0.015015\n",
              "4       0.04004       0.000401         0.020020\n",
              "..          ...            ...              ...\n",
              "995     9.95996      24.800201         4.979980\n",
              "996     9.96997      24.850075         4.984985\n",
              "997     9.97998      24.900000         4.989990\n",
              "998     9.98999      24.949975         4.994995\n",
              "999    10.00000      25.000000         5.000000\n",
              "\n",
              "[1000 rows x 3 columns]"
            ],
            "text/html": [
              "\n",
              "  <div id=\"df-916b3f29-0870-4163-9773-0b879de55956\" class=\"colab-df-container\">\n",
              "    <div>\n",
              "<style scoped>\n",
              "    .dataframe tbody tr th:only-of-type {\n",
              "        vertical-align: middle;\n",
              "    }\n",
              "\n",
              "    .dataframe tbody tr th {\n",
              "        vertical-align: top;\n",
              "    }\n",
              "\n",
              "    .dataframe thead th {\n",
              "        text-align: right;\n",
              "    }\n",
              "</style>\n",
              "<table border=\"1\" class=\"dataframe\">\n",
              "  <thead>\n",
              "    <tr style=\"text-align: right;\">\n",
              "      <th></th>\n",
              "      <th>Tiempo (s)</th>\n",
              "      <th>Distancia (m)</th>\n",
              "      <th>Velocidad (m/s)</th>\n",
              "    </tr>\n",
              "  </thead>\n",
              "  <tbody>\n",
              "    <tr>\n",
              "      <th>0</th>\n",
              "      <td>0.00000</td>\n",
              "      <td>0.000000</td>\n",
              "      <td>0.000000</td>\n",
              "    </tr>\n",
              "    <tr>\n",
              "      <th>1</th>\n",
              "      <td>0.01001</td>\n",
              "      <td>0.000025</td>\n",
              "      <td>0.005005</td>\n",
              "    </tr>\n",
              "    <tr>\n",
              "      <th>2</th>\n",
              "      <td>0.02002</td>\n",
              "      <td>0.000100</td>\n",
              "      <td>0.010010</td>\n",
              "    </tr>\n",
              "    <tr>\n",
              "      <th>3</th>\n",
              "      <td>0.03003</td>\n",
              "      <td>0.000225</td>\n",
              "      <td>0.015015</td>\n",
              "    </tr>\n",
              "    <tr>\n",
              "      <th>4</th>\n",
              "      <td>0.04004</td>\n",
              "      <td>0.000401</td>\n",
              "      <td>0.020020</td>\n",
              "    </tr>\n",
              "    <tr>\n",
              "      <th>...</th>\n",
              "      <td>...</td>\n",
              "      <td>...</td>\n",
              "      <td>...</td>\n",
              "    </tr>\n",
              "    <tr>\n",
              "      <th>995</th>\n",
              "      <td>9.95996</td>\n",
              "      <td>24.800201</td>\n",
              "      <td>4.979980</td>\n",
              "    </tr>\n",
              "    <tr>\n",
              "      <th>996</th>\n",
              "      <td>9.96997</td>\n",
              "      <td>24.850075</td>\n",
              "      <td>4.984985</td>\n",
              "    </tr>\n",
              "    <tr>\n",
              "      <th>997</th>\n",
              "      <td>9.97998</td>\n",
              "      <td>24.900000</td>\n",
              "      <td>4.989990</td>\n",
              "    </tr>\n",
              "    <tr>\n",
              "      <th>998</th>\n",
              "      <td>9.98999</td>\n",
              "      <td>24.949975</td>\n",
              "      <td>4.994995</td>\n",
              "    </tr>\n",
              "    <tr>\n",
              "      <th>999</th>\n",
              "      <td>10.00000</td>\n",
              "      <td>25.000000</td>\n",
              "      <td>5.000000</td>\n",
              "    </tr>\n",
              "  </tbody>\n",
              "</table>\n",
              "<p>1000 rows × 3 columns</p>\n",
              "</div>\n",
              "    <div class=\"colab-df-buttons\">\n",
              "\n",
              "  <div class=\"colab-df-container\">\n",
              "    <button class=\"colab-df-convert\" onclick=\"convertToInteractive('df-916b3f29-0870-4163-9773-0b879de55956')\"\n",
              "            title=\"Convert this dataframe to an interactive table.\"\n",
              "            style=\"display:none;\">\n",
              "\n",
              "  <svg xmlns=\"http://www.w3.org/2000/svg\" height=\"24px\" viewBox=\"0 -960 960 960\">\n",
              "    <path d=\"M120-120v-720h720v720H120Zm60-500h600v-160H180v160Zm220 220h160v-160H400v160Zm0 220h160v-160H400v160ZM180-400h160v-160H180v160Zm440 0h160v-160H620v160ZM180-180h160v-160H180v160Zm440 0h160v-160H620v160Z\"/>\n",
              "  </svg>\n",
              "    </button>\n",
              "\n",
              "  <style>\n",
              "    .colab-df-container {\n",
              "      display:flex;\n",
              "      gap: 12px;\n",
              "    }\n",
              "\n",
              "    .colab-df-convert {\n",
              "      background-color: #E8F0FE;\n",
              "      border: none;\n",
              "      border-radius: 50%;\n",
              "      cursor: pointer;\n",
              "      display: none;\n",
              "      fill: #1967D2;\n",
              "      height: 32px;\n",
              "      padding: 0 0 0 0;\n",
              "      width: 32px;\n",
              "    }\n",
              "\n",
              "    .colab-df-convert:hover {\n",
              "      background-color: #E2EBFA;\n",
              "      box-shadow: 0px 1px 2px rgba(60, 64, 67, 0.3), 0px 1px 3px 1px rgba(60, 64, 67, 0.15);\n",
              "      fill: #174EA6;\n",
              "    }\n",
              "\n",
              "    .colab-df-buttons div {\n",
              "      margin-bottom: 4px;\n",
              "    }\n",
              "\n",
              "    [theme=dark] .colab-df-convert {\n",
              "      background-color: #3B4455;\n",
              "      fill: #D2E3FC;\n",
              "    }\n",
              "\n",
              "    [theme=dark] .colab-df-convert:hover {\n",
              "      background-color: #434B5C;\n",
              "      box-shadow: 0px 1px 3px 1px rgba(0, 0, 0, 0.15);\n",
              "      filter: drop-shadow(0px 1px 2px rgba(0, 0, 0, 0.3));\n",
              "      fill: #FFFFFF;\n",
              "    }\n",
              "  </style>\n",
              "\n",
              "    <script>\n",
              "      const buttonEl =\n",
              "        document.querySelector('#df-916b3f29-0870-4163-9773-0b879de55956 button.colab-df-convert');\n",
              "      buttonEl.style.display =\n",
              "        google.colab.kernel.accessAllowed ? 'block' : 'none';\n",
              "\n",
              "      async function convertToInteractive(key) {\n",
              "        const element = document.querySelector('#df-916b3f29-0870-4163-9773-0b879de55956');\n",
              "        const dataTable =\n",
              "          await google.colab.kernel.invokeFunction('convertToInteractive',\n",
              "                                                    [key], {});\n",
              "        if (!dataTable) return;\n",
              "\n",
              "        const docLinkHtml = 'Like what you see? Visit the ' +\n",
              "          '<a target=\"_blank\" href=https://colab.research.google.com/notebooks/data_table.ipynb>data table notebook</a>'\n",
              "          + ' to learn more about interactive tables.';\n",
              "        element.innerHTML = '';\n",
              "        dataTable['output_type'] = 'display_data';\n",
              "        await google.colab.output.renderOutput(dataTable, element);\n",
              "        const docLink = document.createElement('div');\n",
              "        docLink.innerHTML = docLinkHtml;\n",
              "        element.appendChild(docLink);\n",
              "      }\n",
              "    </script>\n",
              "  </div>\n",
              "\n",
              "\n",
              "    <div id=\"df-1929bc78-a7e3-43b0-aff6-e5f18267c66c\">\n",
              "      <button class=\"colab-df-quickchart\" onclick=\"quickchart('df-1929bc78-a7e3-43b0-aff6-e5f18267c66c')\"\n",
              "                title=\"Suggest charts\"\n",
              "                style=\"display:none;\">\n",
              "\n",
              "<svg xmlns=\"http://www.w3.org/2000/svg\" height=\"24px\"viewBox=\"0 0 24 24\"\n",
              "     width=\"24px\">\n",
              "    <g>\n",
              "        <path d=\"M19 3H5c-1.1 0-2 .9-2 2v14c0 1.1.9 2 2 2h14c1.1 0 2-.9 2-2V5c0-1.1-.9-2-2-2zM9 17H7v-7h2v7zm4 0h-2V7h2v10zm4 0h-2v-4h2v4z\"/>\n",
              "    </g>\n",
              "</svg>\n",
              "      </button>\n",
              "\n",
              "<style>\n",
              "  .colab-df-quickchart {\n",
              "      --bg-color: #E8F0FE;\n",
              "      --fill-color: #1967D2;\n",
              "      --hover-bg-color: #E2EBFA;\n",
              "      --hover-fill-color: #174EA6;\n",
              "      --disabled-fill-color: #AAA;\n",
              "      --disabled-bg-color: #DDD;\n",
              "  }\n",
              "\n",
              "  [theme=dark] .colab-df-quickchart {\n",
              "      --bg-color: #3B4455;\n",
              "      --fill-color: #D2E3FC;\n",
              "      --hover-bg-color: #434B5C;\n",
              "      --hover-fill-color: #FFFFFF;\n",
              "      --disabled-bg-color: #3B4455;\n",
              "      --disabled-fill-color: #666;\n",
              "  }\n",
              "\n",
              "  .colab-df-quickchart {\n",
              "    background-color: var(--bg-color);\n",
              "    border: none;\n",
              "    border-radius: 50%;\n",
              "    cursor: pointer;\n",
              "    display: none;\n",
              "    fill: var(--fill-color);\n",
              "    height: 32px;\n",
              "    padding: 0;\n",
              "    width: 32px;\n",
              "  }\n",
              "\n",
              "  .colab-df-quickchart:hover {\n",
              "    background-color: var(--hover-bg-color);\n",
              "    box-shadow: 0 1px 2px rgba(60, 64, 67, 0.3), 0 1px 3px 1px rgba(60, 64, 67, 0.15);\n",
              "    fill: var(--button-hover-fill-color);\n",
              "  }\n",
              "\n",
              "  .colab-df-quickchart-complete:disabled,\n",
              "  .colab-df-quickchart-complete:disabled:hover {\n",
              "    background-color: var(--disabled-bg-color);\n",
              "    fill: var(--disabled-fill-color);\n",
              "    box-shadow: none;\n",
              "  }\n",
              "\n",
              "  .colab-df-spinner {\n",
              "    border: 2px solid var(--fill-color);\n",
              "    border-color: transparent;\n",
              "    border-bottom-color: var(--fill-color);\n",
              "    animation:\n",
              "      spin 1s steps(1) infinite;\n",
              "  }\n",
              "\n",
              "  @keyframes spin {\n",
              "    0% {\n",
              "      border-color: transparent;\n",
              "      border-bottom-color: var(--fill-color);\n",
              "      border-left-color: var(--fill-color);\n",
              "    }\n",
              "    20% {\n",
              "      border-color: transparent;\n",
              "      border-left-color: var(--fill-color);\n",
              "      border-top-color: var(--fill-color);\n",
              "    }\n",
              "    30% {\n",
              "      border-color: transparent;\n",
              "      border-left-color: var(--fill-color);\n",
              "      border-top-color: var(--fill-color);\n",
              "      border-right-color: var(--fill-color);\n",
              "    }\n",
              "    40% {\n",
              "      border-color: transparent;\n",
              "      border-right-color: var(--fill-color);\n",
              "      border-top-color: var(--fill-color);\n",
              "    }\n",
              "    60% {\n",
              "      border-color: transparent;\n",
              "      border-right-color: var(--fill-color);\n",
              "    }\n",
              "    80% {\n",
              "      border-color: transparent;\n",
              "      border-right-color: var(--fill-color);\n",
              "      border-bottom-color: var(--fill-color);\n",
              "    }\n",
              "    90% {\n",
              "      border-color: transparent;\n",
              "      border-bottom-color: var(--fill-color);\n",
              "    }\n",
              "  }\n",
              "</style>\n",
              "\n",
              "      <script>\n",
              "        async function quickchart(key) {\n",
              "          const quickchartButtonEl =\n",
              "            document.querySelector('#' + key + ' button');\n",
              "          quickchartButtonEl.disabled = true;  // To prevent multiple clicks.\n",
              "          quickchartButtonEl.classList.add('colab-df-spinner');\n",
              "          try {\n",
              "            const charts = await google.colab.kernel.invokeFunction(\n",
              "                'suggestCharts', [key], {});\n",
              "          } catch (error) {\n",
              "            console.error('Error during call to suggestCharts:', error);\n",
              "          }\n",
              "          quickchartButtonEl.classList.remove('colab-df-spinner');\n",
              "          quickchartButtonEl.classList.add('colab-df-quickchart-complete');\n",
              "        }\n",
              "        (() => {\n",
              "          let quickchartButtonEl =\n",
              "            document.querySelector('#df-1929bc78-a7e3-43b0-aff6-e5f18267c66c button');\n",
              "          quickchartButtonEl.style.display =\n",
              "            google.colab.kernel.accessAllowed ? 'block' : 'none';\n",
              "        })();\n",
              "      </script>\n",
              "    </div>\n",
              "\n",
              "    </div>\n",
              "  </div>\n"
            ],
            "application/vnd.google.colaboratory.intrinsic+json": {
              "type": "dataframe",
              "variable_name": "df",
              "summary": "{\n  \"name\": \"df\",\n  \"rows\": 1000,\n  \"fields\": [\n    {\n      \"column\": \"Tiempo (s)\",\n      \"properties\": {\n        \"dtype\": \"number\",\n        \"std\": 2.8910854464038986,\n        \"min\": 0.0,\n        \"max\": 10.0,\n        \"num_unique_values\": 1000,\n        \"samples\": [\n          5.215215215215215,\n          7.377377377377377,\n          7.407407407407407\n        ],\n        \"semantic_type\": \"\",\n        \"description\": \"\"\n      }\n    },\n    {\n      \"column\": \"Distancia (m)\",\n      \"properties\": {\n        \"dtype\": \"number\",\n        \"std\": 7.465216822392155,\n        \"min\": 0.0,\n        \"max\": 25.0,\n        \"num_unique_values\": 1000,\n        \"samples\": [\n          6.7996174352530705,\n          13.606424242059878,\n          13.717421124828533\n        ],\n        \"semantic_type\": \"\",\n        \"description\": \"\"\n      }\n    },\n    {\n      \"column\": \"Velocidad (m/s)\",\n      \"properties\": {\n        \"dtype\": \"number\",\n        \"std\": 1.4455427232019493,\n        \"min\": 0.0,\n        \"max\": 5.0,\n        \"num_unique_values\": 1000,\n        \"samples\": [\n          2.6076076076076076,\n          3.6886886886886887,\n          3.7037037037037037\n        ],\n        \"semantic_type\": \"\",\n        \"description\": \"\"\n      }\n    }\n  ]\n}"
            }
          },
          "metadata": {},
          "execution_count": 85
        }
      ]
    },
    {
      "cell_type": "markdown",
      "id": "d00d2fbb",
      "metadata": {
        "id": "d00d2fbb"
      },
      "source": [
        "### Ejercicio 3\n",
        "\n",
        "Cuando llego a la máquina de café, escucho a mi colega hablar sobre los costos unitarios de producir el 'producto B' para la empresa. A medida que la empresa produce más unidades, los costos unitarios continúan disminuyendo hasta un punto en el que comienzan a aumentar.\n",
        "\n",
        "Para optimizar el costo de producción por unidad en su mínimo y mejorar la eficiencia, la empresa necesitaría encontrar el número de unidades que deben producirse donde los costos unitarios de producción comienzan a cambiar de disminuir a aumentar.\n",
        "\n",
        "**Construye la función cuadrática $f(x)=0.1(x)^2−9x +4500$ en $x∈[0,100]$ para crear la función de costo por unidad, y haz una conclusión.**"
      ]
    },
    {
      "cell_type": "code",
      "execution_count": 94,
      "id": "7c67d8b7",
      "metadata": {
        "colab": {
          "base_uri": "https://localhost:8080/",
          "height": 447
        },
        "id": "7c67d8b7",
        "outputId": "6f57bc8b-959b-420f-8afb-fb6651bda188"
      },
      "outputs": [
        {
          "output_type": "stream",
          "name": "stdout",
          "text": [
            "El punto óptimo es [45,4297.50]\n"
          ]
        },
        {
          "output_type": "display_data",
          "data": {
            "text/plain": [
              "<Figure size 640x480 with 1 Axes>"
            ],
            "image/png": "[encoded data removed]"
          },
          "metadata": {}
        }
      ],
      "source": [
        "# Definir y graficar la función\n",
        "def cuadratic(x:float) -> float:\n",
        "  return 0.1*(x**2)-9*(x)+4500\n",
        "\n",
        "x = np.linspace(0,100,1000)\n",
        "plt.plot(x,cuadratic(x), label=\"Costo de producción\")\n",
        "# 0.2x - 9 = 0\n",
        "# 2x - 90 = 0\n",
        "# x = 90/2\n",
        "# x = 45\n",
        "x_min = 45\n",
        "plt.scatter(x_min, cuadratic(x_min), color='red', s=70, label=\"Producción mínima\")\n",
        "print(f\"El punto óptimo es [{x_min},{cuadratic(x_min):.2f}]\")\n",
        "plt.legend()\n",
        "plt.show()"
      ]
    },
    {
      "cell_type": "markdown",
      "source": [
        "- **Bajo un análisis, la empresa debe producir 45 unidades del producto B para optimizar el costo de produccion del producto y mejorar la eficiencia. A partir de las 45 unidades se puede notar como el costo de producción aumenta significativamente**"
      ],
      "metadata": {
        "id": "vpeLLseCB0A0"
      },
      "id": "vpeLLseCB0A0"
    },
    {
      "cell_type": "markdown",
      "id": "aabad82c",
      "metadata": {
        "id": "aabad82c"
      },
      "source": [
        "## Álgebra lineal"
      ]
    },
    {
      "cell_type": "markdown",
      "id": "6753636d",
      "metadata": {
        "id": "6753636d"
      },
      "source": [
        "### Ejercicio 1: Suma de dos matrices\n",
        "\n",
        "Supón que tenemos dos matrices A y B.\n",
        "\n",
        "```py\n",
        "A = [[1,2],[3,4]]\n",
        "B = [[4,5],[6,7]]\n",
        "\n",
        "luego tenemos\n",
        "A+B = [[5,7],[9,11]]\n",
        "A-B = [[-3,-3],[-3,-3]]\n",
        "```\n",
        "\n",
        "Suma ambas matrices usando Python con NumPy."
      ]
    },
    {
      "cell_type": "code",
      "execution_count": 102,
      "id": "9e200c32",
      "metadata": {
        "colab": {
          "base_uri": "https://localhost:8080/"
        },
        "id": "9e200c32",
        "outputId": "46e4357c-167c-450d-c105-28878443bf7a"
      },
      "outputs": [
        {
          "output_type": "stream",
          "name": "stdout",
          "text": [
            "Matriz A: \n",
            "[[1 2]\n",
            " [3 4]]\n",
            "Matriz B:\n",
            " [[4 5]\n",
            " [6 7]]\n",
            "Matriz A+B: \n",
            "[[ 5  7]\n",
            " [ 9 11]]\n"
          ]
        }
      ],
      "source": [
        "A = np.array([[1,2],[3,4]])\n",
        "B = np.array([[4,5],[6,7]])\n",
        "m_resultante = np.add(A,B)\n",
        "\n",
        "print(f\"Matriz A: \\n{A}\")\n",
        "print(f\"Matriz B:\\n {B}\")\n",
        "print(f\"Matriz A+B: \\n{m_resultante}\")"
      ]
    },
    {
      "cell_type": "markdown",
      "id": "93bfb6cc",
      "metadata": {
        "id": "93bfb6cc"
      },
      "source": [
        "### Ejercicio 2: Suma de dos listas\n",
        "\n",
        "Habrá muchas situaciones en las que tendremos que encontrar una suma por índice de dos listas diferentes. Esto puede tener aplicaciones posibles en la programación diaria. En este ejercicio, resolveremos el mismo problema de varias maneras en las que se puede realizar esta tarea.\n",
        "\n",
        "Tenemos las siguientes dos listas:\n",
        "\n",
        "```py\n",
        "list1 = [2, 5, 4, 7, 3]\n",
        "list2 = [1, 4, 6, 9, 10]\n",
        "```\n",
        "\n",
        "Ahora, usemos código en Python para demostrar la suma de dos listas."
      ]
    },
    {
      "cell_type": "code",
      "execution_count": 115,
      "id": "681930a3",
      "metadata": {
        "colab": {
          "base_uri": "https://localhost:8080/"
        },
        "id": "681930a3",
        "outputId": "95aac7c6-edeb-435b-a7ac-dd6c60476d12"
      },
      "outputs": [
        {
          "output_type": "stream",
          "name": "stdout",
          "text": [
            "Lista nueva: [3, 9, 10, 16, 13]\n"
          ]
        }
      ],
      "source": [
        "l_1 = [2, 5, 4, 7, 3]\n",
        "l_2 = [1, 4, 6, 9, 10]\n",
        "arr_nuevo = []\n",
        "\n",
        "for i in range(len(l_1)):\n",
        "  arr_nuevo.append(l_1[i] + l_2[i])\n",
        "\n",
        "print(f\"Lista nueva: {arr_nuevo}\")"
      ]
    },
    {
      "cell_type": "code",
      "execution_count": 120,
      "id": "a3a8a425",
      "metadata": {
        "colab": {
          "base_uri": "https://localhost:8080/"
        },
        "id": "a3a8a425",
        "outputId": "4cb75913-08bf-4b70-ca39-241decec31db"
      },
      "outputs": [
        {
          "output_type": "stream",
          "name": "stdout",
          "text": [
            "Lista nueva: [3, 9, 10, 16, 13]\n"
          ]
        }
      ],
      "source": [
        "# Usar map() + add():\n",
        "from operator import add\n",
        "\n",
        "arr_nuevo = list(map(add,l_1,l_2))\n",
        "\n",
        "print (f\"Lista nueva: {arr_nuevo}\")"
      ]
    },
    {
      "cell_type": "code",
      "execution_count": 125,
      "id": "1708d7ee",
      "metadata": {
        "colab": {
          "base_uri": "https://localhost:8080/"
        },
        "id": "1708d7ee",
        "outputId": "fe69f160-c79c-4746-991d-267c69df92a3"
      },
      "outputs": [
        {
          "output_type": "stream",
          "name": "stdout",
          "text": [
            "[3, 9, 10, 16, 13]\n"
          ]
        }
      ],
      "source": [
        "arr_n = []\n",
        "for i in zip(l_1, l_2):\n",
        "   arr_n.append(sum(i))\n",
        "print(arr_n)"
      ]
    },
    {
      "cell_type": "markdown",
      "id": "1aef1bd2",
      "metadata": {
        "id": "1aef1bd2"
      },
      "source": [
        "### Ejercicio 3: Multiplicación punto a punto\n",
        "\n",
        "Tenemos dos matrices:\n",
        "\n",
        "```py\n",
        "matrix1 = [[1,7,3],\n",
        " [4,5,2],\n",
        " [3,6,1]]\n",
        "matrix2 = [[5,4,1],\n",
        " [1,2,3],\n",
        " [4,5,2]]\n",
        "```\n",
        "\n",
        "Una técnica simple pero costosa para conjuntos de datos de entrada más grandes es usar bucles for. En este ejercicio, primero utilizaremos bucles for anidados para iterar a través de cada fila y columna de las matrices, y luego realizaremos la misma multiplicación usando NumPy."
      ]
    },
    {
      "cell_type": "code",
      "execution_count": 129,
      "id": "840e7d0e",
      "metadata": {
        "colab": {
          "base_uri": "https://localhost:8080/"
        },
        "id": "840e7d0e",
        "outputId": "9a758409-4fd7-485c-e9bd-5d3aa576db5c"
      },
      "outputs": [
        {
          "output_type": "stream",
          "name": "stdout",
          "text": [
            "[[24, 33, 28], [33, 36, 23], [25, 29, 23]]\n"
          ]
        }
      ],
      "source": [
        "m1 = [[1,7,3],[4,5,2],[3,6,1]]\n",
        "m2 = [[5,4,1],[1,2,3],[4,5,2]]\n",
        "\n",
        "res =[[0,0,0],[0,0,0],[0,0,0]]\n",
        "\n",
        "for i in range(len(m1)):\n",
        "    for j in range(len(m2[0])):\n",
        "        for k in range(len(m2)):\n",
        "\n",
        "            # Matriz resultante\n",
        "            res[i][j] += m1[i][k] * m2[k][j]\n",
        "\n",
        "print(res)"
      ]
    },
    {
      "cell_type": "code",
      "execution_count": 128,
      "id": "db6c3355",
      "metadata": {
        "colab": {
          "base_uri": "https://localhost:8080/"
        },
        "id": "db6c3355",
        "outputId": "e1f94668-8e10-43e1-c02f-ee433456637d"
      },
      "outputs": [
        {
          "output_type": "stream",
          "name": "stdout",
          "text": [
            "[[24 33 28]\n",
            " [33 36 23]\n",
            " [25 29 23]]\n"
          ]
        }
      ],
      "source": [
        "res = np.dot(m1,m2)\n",
        "\n",
        "print(res)\n"
      ]
    }
  ],
  "metadata": {
    "interpreter": {
      "hash": "d3463682613d55fcbb64853e38cc3520a7f67bdf8d6940e781ddcdc423122719"
    },
    "kernelspec": {
      "display_name": "Python 3.9.12 ('calculus-project')",
      "language": "python",
      "name": "python3"
    },
    "language_info": {
      "codemirror_mode": {
        "name": "ipython",
        "version": 3
      },
      "file_extension": ".py",
      "mimetype": "text/x-python",
      "name": "python",
      "nbconvert_exporter": "python",
      "pygments_lexer": "ipython3",
      "version": "3.9.12"
    },
    "colab": {
      "provenance": [],
      "toc_visible": true
    }
  },
  "nbformat": 4,
  "nbformat_minor": 5
}