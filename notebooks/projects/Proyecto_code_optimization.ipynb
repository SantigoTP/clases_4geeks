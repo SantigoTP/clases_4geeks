{
  "cells": [
    {
      "cell_type": "markdown",
      "id": "27b09e13",
      "metadata": {
        "id": "27b09e13"
      },
      "source": [
        "# Problemas de optimización de algoritmos"
      ]
    },
    {
      "cell_type": "markdown",
      "id": "ed05e9bf",
      "metadata": {
        "id": "ed05e9bf"
      },
      "source": [
        "## Ejercicio 1\n",
        "### Optimización de código para procesamiento de texto\n"
      ]
    },
    {
      "cell_type": "markdown",
      "id": "29040779",
      "metadata": {
        "id": "29040779"
      },
      "source": [
        "Puntos a optimizar:\n",
        "\n",
        "1. **Eliminar los signos de puntuación**: Usar `replace`  en un ciclo puede ser ineficiente, especialmente con textos largos. Busca una formas eficiente de eliminar los signos de puntuación.\n",
        "2. **Contador de frecuencia**: El código verifica la existencia de cada palabra en el diccionario y luego actualiza su cuenta. Esto puede hacerse mas eficientemente con ciertas estructuras de datos en Python.\n",
        "3. **Ordenar y seleccionar:** Considera si hay una forma mas directa o efectiva de obtener las 5 palabras mas frecuentes sin ordenar todas las palabras.\n",
        "4. **Modularidad**: Divide el código en funciones mas pequeñas para que cada una puede realizar una tarea específica. Esto no solo optimizará el desempeño, sino también hará el código mas legible y mantenible."
      ]
    },
    {
      "cell_type": "code",
      "execution_count": 51,
      "id": "57cd6641",
      "metadata": {
        "colab": {
          "base_uri": "https://localhost:8080/"
        },
        "id": "57cd6641",
        "outputId": "3d64cdb1-2158-41d2-cba8-3d8f899ca967"
      },
      "outputs": [
        {
          "name": "stdout",
          "output_type": "stream",
          "text": [
            "[\"Las 5 palabras mas comunes son: ['the-> 5 veces', 'of-> 3 veces', 'in-> 2 veces', 'a-> 2 veces', 'she-> 2 veces']\"]\n"
          ]
        }
      ],
      "source": [
        "from collections import Counter\n",
        "import string\n",
        "\n",
        "#Conteo de palabras para sacar la frecuencia\n",
        "def conteo_palabras(text):\n",
        "  palabras_sep = text.split()\n",
        "  return Counter(palabras_sep)\n",
        "\n",
        "#toma el top5\n",
        "def palabras_comunes(fr,n=5):\n",
        "  return fr.most_common(n)\n",
        "\n",
        "def texto_procesado(text):\n",
        "  text = text.lower()\n",
        "  texto_limpio = text.translate(str.maketrans('', '', string.punctuation))\n",
        "\n",
        "  frec = conteo_palabras(texto_limpio)\n",
        "  prim_5 = palabras_comunes(frec)\n",
        "  return prim_5\n",
        "\n",
        "text = \"\"\"In the heart of the city, Emily discovered a quaint little café, hidden away from the bustling streets.\n",
        "    The aroma of freshly baked pastries wafted through the air, drawing in passersby. As she sipped on her latte,\n",
        "    she noticed an old bookshelf filled with classics, creating a cozy atmosphere that made her lose track of time.\n",
        "    \"\"\"\n",
        "resultado = [f\"{x}-> {k} veces\" for x,k in texto_procesado(text)]\n",
        "print([f\"Las 5 palabras mas comunes son: {resultado}\"])"
      ]
    },
    {
      "cell_type": "markdown",
      "id": "011996bc",
      "metadata": {
        "id": "011996bc"
      },
      "source": [
        "## Ejercicio 2\n",
        "### Optimización de código para procesamiento de listas\n"
      ]
    },
    {
      "cell_type": "markdown",
      "id": "128d564e",
      "metadata": {
        "id": "128d564e"
      },
      "source": [
        "Puntos a optimizar:\n",
        "\n",
        "1. **Filtrar las números**: El código recorre la lista original para filtrar los números pares. Considera una forma mas eficiente de filtrar la lista.\n",
        "2. **Duplicación**: La lista es atravesada varias veces. ¿Hay alguna manera de hacer esto mas eficientemente?\n",
        "3. **Suma**: Los números en la lista se suman a traves de un bucle. Python trae incluidas unas funciones que pueden optimizar esto.\n",
        "4. **Función `is_prime`**: Aunque ésta función es relativamente eficiente, investiga si hay maneras de hacerla aun más rápida.\n",
        "5. **Modularidad**: Considera dividir el código en funciones más pequeñas, cada una enfocada en una tarea específica."
      ]
    },
    {
      "cell_type": "code",
      "execution_count": null,
      "id": "2jEWmIfStwMg",
      "metadata": {
        "colab": {
          "base_uri": "https://localhost:8080/"
        },
        "id": "2jEWmIfStwMg",
        "outputId": "540c87e7-09f5-43c9-c374-33552b8af2c2"
      },
      "outputs": [
        {
          "name": "stdout",
          "output_type": "stream",
          "text": [
            "Lista de números pares duplicados: [4, 8, 12, 16, 20]\n",
            "Suma total: 60\n",
            "¿La suma es prima?: No\n"
          ]
        }
      ],
      "source": [
        "import math\n",
        "\n",
        "def is_prime(n):\n",
        "    if n <= 1:\n",
        "        return False\n",
        "    for i in range(2, int(math.sqrt(n)) + 1):\n",
        "        if n % i == 0:\n",
        "            return False\n",
        "    return True\n",
        "\n",
        "def process_list(list_):\n",
        "    # Combina la filtración y duplicación\n",
        "    doubled_evens = [num * 2 for num in list_ if num % 2 == 0]\n",
        "    \n",
        "    total_sum = sum(doubled_evens)\n",
        "\n",
        "    # Comprueba si es un numero primo la suma.\n",
        "    prime = is_prime(total_sum)\n",
        "\n",
        "    return doubled_evens, total_sum, prime\n",
        "\n",
        "\n",
        "list_ = [1, 2, 3, 4, 5, 6, 7, 8, 9, 10]\n",
        "doubled_list, result_sum, result_prime = process_list(list_)\n",
        "\n",
        "print(f\"Lista de números pares duplicados: {doubled_list}\")\n",
        "print(f\"Suma total: {result_sum}\")\n",
        "print(f\"¿La suma es prima?: {'Sí' if result_prime else 'No'}\")"
      ]
    },
    {
      "cell_type": "markdown",
      "id": "1af70806",
      "metadata": {
        "id": "1af70806"
      },
      "source": [
        "Ambos ejercicios  ayudarán a mejorar tu habilidad de optimizar el desempeño del código y te darán un mejor entendimiento de como las diferentes estructuras de datos y técnicas de programación pueden afectar la eficiencia de tu código."
      ]
    }
  ],
  "metadata": {
    "colab": {
      "provenance": []
    },
    "interpreter": {
      "hash": "9248718ffe6ce6938b217e69dbcc175ea21f4c6b28a317e96c05334edae734bb"
    },
    "kernelspec": {
      "display_name": "Python 3 (ipykernel)",
      "language": "python",
      "name": "python3"
    },
    "language_info": {
      "codemirror_mode": {
        "name": "ipython",
        "version": 3
      },
      "file_extension": ".py",
      "mimetype": "text/x-python",
      "name": "python",
      "nbconvert_exporter": "python",
      "pygments_lexer": "ipython3",
      "version": "3.11.4"
    }
  },
  "nbformat": 4,
  "nbformat_minor": 5
}
