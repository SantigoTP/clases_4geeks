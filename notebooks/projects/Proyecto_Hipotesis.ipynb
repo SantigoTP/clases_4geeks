{
  "cells": [
    {
      "cell_type": "code",
      "execution_count": 9,
      "id": "q9bZmnCaRO_T",
      "metadata": {
        "id": "q9bZmnCaRO_T"
      },
      "outputs": [],
      "source": [
        "from statsmodels.stats.multicomp import pairwise_tukeyhsd\n",
        "from scipy import stats\n",
        "import numpy as np"
      ]
    },
    {
      "cell_type": "markdown",
      "id": "d157c4db",
      "metadata": {
        "id": "d157c4db"
      },
      "source": [
        "## Ejercicio 1\n",
        "\n",
        "Usted es un nutricionista que investiga dos tipos diferentes de dietas para ver si existe una diferencia significativa en la pérdida de peso después de un mes. Eliges dos grupos aleatorios de personas; un grupo sigue la primera dieta y el otro sigue la segunda. Al final del mes, se registra la pérdida de peso (en kg) de cada persona:\n",
        "\n",
        "| Diet 1 | Diet 2 |\n",
        "|:-------|:-------|\n",
        "| 2.0 | 3.0 |\n",
        "| 2.5 | 3.2 |\n",
        "| 3.0 | 3.1 |\n",
        "| 2.8 | 2.9 |\n",
        "| 2.3 | 2.8 |\n",
        "| 2.7 | 3.0 |\n",
        "| 2.5 | 3.2 |\n",
        "\n",
        "Con estos datos se busca responder a la siguiente pregunta: ¿Existe una diferencia significativa en la pérdida de peso promedio entre las personas que siguieron la primera dieta y las que siguieron la segunda dieta?\n",
        "\n",
        "Para sacar conclusiones, siga los siguientes puntos:\n",
        "\n",
        "-Enunciar la hipótesis: hipótesis nula y alternativa.\n",
        "-Realizar la prueba para comprobar la hipótesis. Puede utilizar la prueba t de Student.\n",
        "-Analizar las conclusiones."
      ]
    },
    {
      "cell_type": "markdown",
      "id": "esP2Yi4BcfQD",
      "metadata": {
        "id": "esP2Yi4BcfQD"
      },
      "source": [
        "H_0: La pérdida de peso promedio de la Dieta 1 es igual a la de la Dieta 2.\n",
        "\n",
        "H_1: La pérdida de peso promedio de la Dieta 1 es diferente a la de la Dieta 2."
      ]
    },
    {
      "cell_type": "code",
      "execution_count": 10,
      "id": "8e0f3cf0",
      "metadata": {
        "colab": {
          "base_uri": "https://localhost:8080/"
        },
        "id": "8e0f3cf0",
        "outputId": "46c8691d-d9ca-41e4-8aef-2e68458bc889"
      },
      "outputs": [
        {
          "name": "stdout",
          "output_type": "stream",
          "text": [
            "Diferencia entre las medias: -3.5383407969933938\n",
            "Probabilidad: 0.004083270191713912\n",
            "Promedio dieta 1: 2.542857142857143\n",
            "Promedio dieta 2: 3.0285714285714285\n"
          ]
        }
      ],
      "source": [
        "dieta_1 = [2.0,2.5,3.0,2.8,2.3,2.7,2.5]\n",
        "dieta_2 = [3.0,3.2,3.1,2.9,2.8,3.0,3.2]\n",
        "alpha = 0.05\n",
        "\n",
        "statistics,p_value = stats.ttest_ind(dieta_1,dieta_2)\n",
        "print(f\"Diferencia entre las medias: {statistics}\")\n",
        "print(f\"Probabilidad: {p_value}\")\n",
        "print(f\"Promedio dieta 1: {np.mean(dieta_1)}\")\n",
        "print(f\"Promedio dieta 2: {np.mean(dieta_2)}\")"
      ]
    },
    {
      "cell_type": "markdown",
      "id": "jZYUbK41esAf",
      "metadata": {
        "id": "jZYUbK41esAf"
      },
      "source": [
        "####Conclusión\n",
        "- En el primer item se ve que existe una diferencia significativa entre los valores medios de los arreglos. El negativo se debe a que la media de la dieta_2 es mayor a la de la dieta_1\n",
        "- La probabilidad de obtener una gran diferencia entre los datos se muestra debido a que el p_value es menor al valor de significancia.\n",
        "- Para finalizar podemos observar como la dieta número 2 parece ser mas efectiva para la perdida de peso."
      ]
    },
    {
      "cell_type": "markdown",
      "id": "f432e18e",
      "metadata": {
        "id": "f432e18e"
      },
      "source": [
        "## ANOVA\n",
        "\n",
        "**ANOVA** (*Analysis of Variance - Análisis de variación*) Es una técnica estadística utilizada para comparar las medidas de dos o más grupos. La idea detrás de ANOVA es descomponer la variabilidad total de los datos en dos componentes: variabilidad entre grupos y variabilidad dentro de los grupos:\n",
        "\n",
        "- **Variabilidad entre grupos**: Esta variabilidad se refiere a las diferencias entre las medias del grupo. Si esta variabilidad es considerablemente mayor que la variabilidad dentro del grupo, podría ser una indicación de que al menos una de las medias del grupo es diferente.\n",
        "- **Variabilidad dentro del grupo**: Esta variabilidad se refiere a la dispersión de los datos dentro de cada grupo. Si todos los grupos tienen una variabilidad similar, entonces cualquier diferencia notable en las medias de los grupos podría considerarse significativa.\n",
        "\n",
        "Las hipótesis en ANOVA suelen incluir:\n",
        "\n",
        "- **Hipótesis nula** ($H₀$): Las medias de todos los grupos son iguales.\n",
        "- **Hipótesis alternativa** ($H₁$): Al menos una de las medias del grupo es diferente.\n",
        "\n",
        "Si el resultado de la prueba ANOVA es significativo (por ejemplo, un valor p inferior a un umbral como 0,05), esto sugiere que al menos la media de un grupo es diferente."
      ]
    },
    {
      "cell_type": "markdown",
      "id": "fc5f3721",
      "metadata": {
        "id": "fc5f3721"
      },
      "source": [
        "## Ejercicio 2\n",
        "\n",
        "Un agricultor decide probar tres tipos diferentes de fertilizantes para determinar si alguno es superior en términos de producción de maíz. El agricultor planta maíz en 15 parcelas idénticas y utiliza los tres fertilizantes (5 parcelas para cada tipo). Al final de la temporada mide el rendimiento de maíz (en kg) de cada parcela, con el siguiente resultado:\n",
        "\n",
        "| Fertilizante 1 | Fertilizante 2 | Fertilizante 3 |\n",
        "|:-------------|:-------------|:-------------|\n",
        "| 20 | 22 | 24 |\n",
        "| 21 | 21 | 23 |\n",
        "| 20 | 23 | 22 |\n",
        "| 19 | 22 | 23 |\n",
        "| 20 | 21 | 24 |\n",
        "\n",
        "Con estos datos busca responder la siguiente pregunta: ¿Existe una diferencia significativa en el rendimiento promedio del maíz entre los tres tipos de fertilizantes?\n",
        "\n",
        "Para ayudarte, sigue los siguientes puntos:\n",
        "\n",
        "-Enunciar la hipótesis: hipótesis nula y alternativa.\n",
        "-Realizar la prueba ANOVA.\n",
        "-Analizar las conclusiones.\n",
        "-Si un fertilizante es mejor que otro, ¿cómo podemos saberlo?"
      ]
    },
    {
      "cell_type": "markdown",
      "id": "xDkvhCfoWO7_",
      "metadata": {
        "id": "xDkvhCfoWO7_"
      },
      "source": [
        "----------------"
      ]
    },
    {
      "cell_type": "markdown",
      "id": "LZYYui-BbYMa",
      "metadata": {
        "id": "LZYYui-BbYMa"
      },
      "source": [
        "H_0 :  Los promedios de rendimiento de maíz de los tres fertilizantes son iguales.  \n",
        "H_1 : Al menos uno de los promedios de rendimiento del maíz fertilizante es diferente."
      ]
    },
    {
      "cell_type": "code",
      "execution_count": 11,
      "id": "eecad0ca",
      "metadata": {
        "colab": {
          "base_uri": "https://localhost:8080/"
        },
        "id": "eecad0ca",
        "outputId": "b2e6dc0b-3cf5-45c7-ecdf-e8077ca521cd"
      },
      "outputs": [
        {
          "name": "stdout",
          "output_type": "stream",
          "text": [
            "Multiple Comparison of Means - Tukey HSD, FWER=0.05\n",
            "==================================================\n",
            "group1 group2 meandiff p-adj  lower  upper  reject\n",
            "--------------------------------------------------\n",
            "    F1     F2      1.8 0.0099 0.4572 3.1428   True\n",
            "    F1     F3      3.2 0.0001 1.8572 4.5428   True\n",
            "    F2     F3      1.4 0.0409 0.0572 2.7428   True\n",
            "--------------------------------------------------\n"
          ]
        }
      ],
      "source": [
        "data = [20,21,20,19,20,22,21,23,22,21,24,23,22,23,24]\n",
        "labels = ['F1','F1','F1','F1','F1','F2','F2','F2','F2','F2','F3','F3','F3','F3','F3']\n",
        "\n",
        "result = pairwise_tukeyhsd(data,labels,alpha=0.05)\n",
        "print(result)"
      ]
    },
    {
      "cell_type": "markdown",
      "id": "wL812Lg9WMVg",
      "metadata": {
        "id": "wL812Lg9WMVg"
      },
      "source": [
        "####Conclusión\n",
        "- En el cuadro se puede analizar principalmente que hay diferencia significativa entre todos los fertilizantes debido a que el valor de significancia(0.05) es mayor al p_adj en cada comparación. Por ende se rechaza la hipotesis nula y aceptamos la hipotesis alternativa."
      ]
    },
    {
      "cell_type": "markdown",
      "id": "LRaW3hvuYpOq",
      "metadata": {
        "id": "LRaW3hvuYpOq"
      },
      "source": [
        "Para saber cuál fertilizante tiene mayor rendimiento en la producción de maíz, sacamos los promedios de cada uno:"
      ]
    },
    {
      "cell_type": "code",
      "execution_count": 12,
      "id": "gwm3oyloY1rs",
      "metadata": {
        "colab": {
          "base_uri": "https://localhost:8080/"
        },
        "id": "gwm3oyloY1rs",
        "outputId": "bd9e08dd-e904-4455-909d-3a4ef477a521"
      },
      "outputs": [
        {
          "name": "stdout",
          "output_type": "stream",
          "text": [
            "Promedio fertilizante 1: 20.0\n",
            "Promedio fertilizante 2: 21.8\n",
            "Promedio fertilizante 3: 23.2\n"
          ]
        }
      ],
      "source": [
        "fertilizante_1 = [20,21,20,19,20]\n",
        "fertilizante_2 = [22,21,23,22,21]\n",
        "fertilizante_3 = [24,23,22,23,24]\n",
        "\n",
        "print(f\"Promedio fertilizante 1: {np.mean(fertilizante_1)}\")\n",
        "print(f\"Promedio fertilizante 2: {np.mean(fertilizante_2)}\")\n",
        "print(f\"Promedio fertilizante 3: {np.mean(fertilizante_3)}\")"
      ]
    },
    {
      "cell_type": "markdown",
      "id": "7S00RuU1ZX-i",
      "metadata": {
        "id": "7S00RuU1ZX-i"
      },
      "source": [
        "###Conclusión\n",
        "- Se concluye que el fertilizante 3 tiene mejor rendimiento en la producción de maíz."
      ]
    }
  ],
  "metadata": {
    "colab": {
      "provenance": []
    },
    "kernelspec": {
      "display_name": ".venv",
      "language": "python",
      "name": "python3"
    },
    "language_info": {
      "codemirror_mode": {
        "name": "ipython",
        "version": 3
      },
      "file_extension": ".py",
      "mimetype": "text/x-python",
      "name": "python",
      "nbconvert_exporter": "python",
      "pygments_lexer": "ipython3",
      "version": "3.12.1"
    }
  },
  "nbformat": 4,
  "nbformat_minor": 5
}
